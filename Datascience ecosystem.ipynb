{
 "cells": [
  {
   "cell_type": "markdown",
   "id": "e92b305b-5cca-44db-af66-bb0b42f9b6c0",
   "metadata": {},
   "source": [
    "## Data science Tools and Ecosystem"
   ]
  },
  {
   "cell_type": "markdown",
   "id": "84449429-ffa5-4583-8d20-8fd9c43fe3b0",
   "metadata": {},
   "source": [
    "## Author\n",
    "Abhijith M"
   ]
  },
  {
   "cell_type": "markdown",
   "id": "05dd9522-0198-4370-a5c1-59c17fb5cb30",
   "metadata": {},
   "source": [
    "In This notebook, Data science tools and Ecosysystem are summarized\n"
   ]
  },
  {
   "cell_type": "markdown",
   "id": "da4d6b83-1ef5-4cb0-ae01-182e6b27a9a9",
   "metadata": {},
   "source": [
    " __Objectives__\n",
    " * Some of the popular languages that data scientists use are:\n",
    " * Some of the commonly used libraries used by data Scientists include\n",
    " * Data Science tools\n",
    " * A few examples of evaluating arithmetic expressions in python\n",
    " "
   ]
  },
  {
   "cell_type": "markdown",
   "id": "fefd8158-d6fc-46a2-a664-3fddac66aea0",
   "metadata": {},
   "source": [
    "Some of the popular languages that data scientists use are:\n"
   ]
  },
  {
   "cell_type": "markdown",
   "id": "f4c61c6e-00df-4081-885d-e0ab2cf7a537",
   "metadata": {},
   "source": [
    "1. Python\n",
    "2. SQL\n",
    "3. R\n",
    "4. Julia"
   ]
  },
  {
   "cell_type": "markdown",
   "id": "783e2c3c-5dd3-4791-8214-2f94ebc78a3e",
   "metadata": {},
   "source": [
    "Some of the commonly used libraries used by data Scientists include"
   ]
  },
  {
   "cell_type": "markdown",
   "id": "4f1dad01-fd82-4f56-a98f-6a613c9ffac0",
   "metadata": {},
   "source": [
    "1. NumPy\n",
    "2. Pandas\n",
    "3. seaborn\n",
    "4. Matplotlib\n",
    "5. Scikit-learn"
   ]
  },
  {
   "cell_type": "markdown",
   "id": "0bea87ea-f98e-4c02-9bf8-113c99f3e414",
   "metadata": {},
   "source": [
    "|  Data Science tools |\n",
    "|---------------------|\n",
    "| Rstudio             |\n",
    "|Jupyter notebook     |\n",
    "|Visual studio code   |"
   ]
  },
  {
   "cell_type": "markdown",
   "id": "1564261c-c939-4339-b377-448747d7a3f2",
   "metadata": {},
   "source": [
    "### Below are a few examples of evaluating arithmetic expressions in python"
   ]
  },
  {
   "cell_type": "code",
   "execution_count": 2,
   "id": "5d2a0d33-67b0-454e-8ee2-c84354c79fc7",
   "metadata": {},
   "outputs": [
    {
     "data": {
      "text/plain": [
       "17"
      ]
     },
     "execution_count": 2,
     "metadata": {},
     "output_type": "execute_result"
    }
   ],
   "source": [
    "(3*4)+5"
   ]
  },
  {
   "cell_type": "code",
   "execution_count": 3,
   "id": "2cee90c9-91f0-4fc4-8817-f20e2ee1010c",
   "metadata": {},
   "outputs": [
    {
     "data": {
      "text/plain": [
       "3.3333333333333335"
      ]
     },
     "execution_count": 3,
     "metadata": {},
     "output_type": "execute_result"
    }
   ],
   "source": [
    "# this will convert 200 minutes into hours by dividing with 60\n",
    "200/60"
   ]
  },
  {
   "cell_type": "code",
   "execution_count": null,
   "id": "5e8f4e96-0eb8-4fe7-ba8d-9ebf3b25ba98",
   "metadata": {},
   "outputs": [],
   "source": []
  }
 ],
 "metadata": {
  "kernelspec": {
   "display_name": "Python 3 (ipykernel)",
   "language": "python",
   "name": "python3"
  },
  "language_info": {
   "codemirror_mode": {
    "name": "ipython",
    "version": 3
   },
   "file_extension": ".py",
   "mimetype": "text/x-python",
   "name": "python",
   "nbconvert_exporter": "python",
   "pygments_lexer": "ipython3",
   "version": "3.12.3"
  }
 },
 "nbformat": 4,
 "nbformat_minor": 5
}
